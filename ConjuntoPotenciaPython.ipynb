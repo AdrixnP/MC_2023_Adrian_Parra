{
  "nbformat": 4,
  "nbformat_minor": 0,
  "metadata": {
    "colab": {
      "provenance": []
    },
    "kernelspec": {
      "name": "python3",
      "display_name": "Python 3"
    },
    "language_info": {
      "name": "python"
    }
  },
  "cells": [
    {
      "cell_type": "code",
      "source": [
        "from more_itertools import powerset\n",
        "\n",
        "N=int(input(\"Escriba el número de datos que desea ingresar: \"))\n",
        "print(\"--------------\")\n",
        "\n",
        "def conjunto(a):\n",
        "  lista=[]\n",
        "  for i in range(0,a):\n",
        "    data=str(input(f\"Ingrese un dato número {i+1} para el conjunto: \"))\n",
        "    data=data.capitalize()\n",
        "    lista.append(data)\n",
        "  print(\"--------------\")\n",
        "  print(\"Al ser un conjunto se eliminaran los datos repetidos\")\n",
        "  c=set(lista)\n",
        "  print(f\"Conjunto: {c}\")\n",
        "\n",
        "  print(\"¿Desea agregar mas elementos?\")\n",
        "  action=str(input(\"Si / No: \"))\n",
        "  while action==\"si\" or action==\"Si\" or action==\"s\" or action==\"S\":\n",
        "    print(\"...................\")\n",
        "    data=str(input(f\"Ingrese un dato para el conjunto: \"))\n",
        "    lista.append(data)\n",
        "    action=str(input(\"¿Desea agregar aún mas elementos?: \"))\n",
        "  print(\"--------------\")\n",
        "  \n",
        "  print(\"Recuerde que se eliminaran los elementos repetidos: \")\n",
        "  c=set(lista)\n",
        "  print(f\"Conjunto: {c}\")\n",
        "  print(\"Conjunto potencia:\")\n",
        "  p=set(powerset(c))\n",
        "  p.discard(\" \")\n",
        "  print(p)\n",
        "\n",
        "conjunto(N)"
      ],
      "metadata": {
        "colab": {
          "base_uri": "https://localhost:8080/"
        },
        "id": "1k5HYLZd5ST7",
        "outputId": "6625c9a8-0e0a-42dd-ab28-e91e7302624e"
      },
      "execution_count": 11,
      "outputs": [
        {
          "output_type": "stream",
          "name": "stdout",
          "text": [
            "Escriba el número de datos que desea ingresar: 3\n",
            "--------------\n",
            "Ingrese un dato número 1 para el conjunto: 5\n",
            "Ingrese un dato número 2 para el conjunto: 3\n",
            "Ingrese un dato número 3 para el conjunto: 7\n",
            "--------------\n",
            "Al ser un conjunto se eliminaran los datos repetidos\n",
            "Conjunto: {'3', '7', '5'}\n",
            "¿Desea agregar mas elementos?\n",
            "Si / No: s\n",
            "...................\n",
            "Ingrese un dato para el conjunto: 3\n",
            "¿Desea agregar aún mas elementos?: s\n",
            "...................\n",
            "Ingrese un dato para el conjunto: 6\n",
            "¿Desea agregar aún mas elementos?: n\n",
            "--------------\n",
            "Recuerde que se eliminaran los elementos repetidos: \n",
            "Conjunto: {'3', '7', '6', '5'}\n",
            "Conjunto potencia:\n",
            "{('3',), ('3', '7', '6'), ('6',), ('7',), ('3', '7', '5'), ('7', '6'), ('3', '6', '5'), ('5',), ('3', '6'), ('3', '7'), ('3', '7', '6', '5'), ('7', '5'), ('6', '5'), ('3', '5'), (), ('7', '6', '5')}\n"
          ]
        }
      ]
    }
  ]
}