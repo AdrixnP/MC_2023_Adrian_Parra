{
  "nbformat": 4,
  "nbformat_minor": 0,
  "metadata": {
    "colab": {
      "provenance": []
    },
    "kernelspec": {
      "name": "python3",
      "display_name": "Python 3"
    },
    "language_info": {
      "name": "python"
    }
  },
  "cells": [
    {
      "cell_type": "code",
      "source": [
        "print(\"Introduce los elementos del primer conjunto separados por una coma:\")\n",
        "conjunto1 = set(map(float, input().split(\",\")))\n",
        "    \n",
        "print(\"Introduce los elementos del segundo conjunto separados por una coma:\")\n",
        "conjunto2 = set(map(float, input().split(\",\")))\n",
        "\n",
        "print(\"......................\")\n",
        "print(\"Seleccione la operación que desea realizar con los conjuntos:\")\n",
        "print(\"1. Unión\")\n",
        "print(\"2. Intersección\")\n",
        "print(\"3. Diferencia\")\n",
        "print(\"4. Diferencia simétrica\")\n",
        "opcion = int(input(\"Opcion: \"))\n",
        "\n",
        "if opcion == 1:\n",
        "  resultado = conjunto1.union(conjunto2)\n",
        "  nombre_resultado = \"A U B\"\n",
        "elif opcion == 2:\n",
        "  resultado = conjunto1.intersection(conjunto2)\n",
        "  nombre_resultado = \"A ∩ B\"\n",
        "elif opcion == 3:\n",
        "  resultado = conjunto1.difference(conjunto2)\n",
        "  nombre_resultado = \"A - B\"\n",
        "elif opcion == 4:\n",
        "  resultado = conjunto1.symmetric_difference(conjunto2)\n",
        "  nombre_resultado = \"A Δ B\"\n",
        "else:\n",
        "  print(\"Opción inválida\")\n",
        "\n",
        "print(\"......................\")\n",
        "print(\"Conjunto \" + nombre_resultado + \":\", resultado)\n",
        "print(\"Cardinalidad de \" + nombre_resultado + \":\", len(resultado))"
      ],
      "metadata": {
        "colab": {
          "base_uri": "https://localhost:8080/"
        },
        "id": "7d3ZNAUkzE02",
        "outputId": "c3d97b28-857f-4f25-8997-d883770980c0"
      },
      "execution_count": 6,
      "outputs": [
        {
          "output_type": "stream",
          "name": "stdout",
          "text": [
            "Introduce los elementos del primer conjunto separados por una coma:\n",
            "3,4,2\n",
            "Introduce los elementos del segundo conjunto separados por una coma:\n",
            "5,3,1\n",
            "......................\n",
            "Seleccione la operación que desea realizar con los conjuntos:\n",
            "1. Unión\n",
            "2. Intersección\n",
            "3. Diferencia\n",
            "4. Diferencia simétrica\n",
            "Opcion: 2\n",
            "......................\n",
            "Conjunto A ∩ B: {3.0}\n",
            "Cardinalidad de A ∩ B: 1\n"
          ]
        }
      ]
    }
  ]
}