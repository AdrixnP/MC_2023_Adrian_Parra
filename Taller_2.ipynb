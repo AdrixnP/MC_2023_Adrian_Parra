{
  "nbformat": 4,
  "nbformat_minor": 0,
  "metadata": {
    "colab": {
      "provenance": []
    },
    "kernelspec": {
      "name": "python3",
      "display_name": "Python 3"
    },
    "language_info": {
      "name": "python"
    }
  },
  "cells": [
    {
      "cell_type": "code",
      "execution_count": 5,
      "metadata": {
        "colab": {
          "base_uri": "https://localhost:8080/"
        },
        "id": "yXTKXhLcxEYf",
        "outputId": "5b37095b-3cb1-4f4f-c291-cc17b93a13d6"
      },
      "outputs": [
        {
          "output_type": "stream",
          "name": "stdout",
          "text": [
            "Operación 1: {2, 4, 8, 10, 12, 18, 20}\n",
            "Operación 2: {2, 4, 6, 8, 10, 12, 14, 15, 16, 18, 20, 22, 24}\n",
            "Operación 3: {2, 3, 5, 6, 7, 11, 13, 14, 16, 17, 19, 22, 23, 24, 29, 31, 37, 41, 43}\n",
            "Operación 4: {9, 15}\n"
          ]
        }
      ],
      "source": [
        "#Conjuntos\n",
        "A=set({6,7,8,9,10,11,12,13,14,15,16,17,18,19,20})\n",
        "B=set({2,4,6,8,10,12,14,16,18,20,22,24})\n",
        "C=set({1,4,8,10,12,15,18,20})\n",
        "D=set({2,3,5,7,11,13,17,19,23,29,31,37,41,43})\n",
        "\n",
        "def Union(a,b):\n",
        "  c=a.union(b)\n",
        "  return c\n",
        "\n",
        "def Diferencia(a,b):\n",
        "  c=a.difference(b)\n",
        "  return c\n",
        "\n",
        "def Interseccion(a,b):\n",
        "  c=a.intersection(b)\n",
        "  return c\n",
        "\n",
        "def DiferenciaSim(a,b):\n",
        "  c=a.symmetric_difference(b)\n",
        "  return c\n",
        "\n",
        "print(f\"Operación 1: {Interseccion(B,DiferenciaSim(C,D))}\")\n",
        "print(f\"Operación 2: {Union(Interseccion(A,C),B)}\")\n",
        "print(f\"Operación 3: {Diferencia(Union(B,D),C)}\")\n",
        "print(f\"Operación 4: {DiferenciaSim(Diferencia(A,B),Interseccion(A,D))}\")"
      ]
    }
  ]
}