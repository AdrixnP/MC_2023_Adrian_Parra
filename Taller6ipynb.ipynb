{
  "nbformat": 4,
  "nbformat_minor": 0,
  "metadata": {
    "colab": {
      "provenance": []
    },
    "kernelspec": {
      "name": "python3",
      "display_name": "Python 3"
    },
    "language_info": {
      "name": "python"
    }
  },
  "cells": [
    {
      "cell_type": "code",
      "execution_count": 3,
      "metadata": {
        "colab": {
          "base_uri": "https://localhost:8080/"
        },
        "id": "X6uGBeaD6sDX",
        "outputId": "914edcd5-685d-48c7-88ff-207f1701ebfd"
      },
      "outputs": [
        {
          "output_type": "stream",
          "name": "stdout",
          "text": [
            "Este programa solicita un angulo y entrega el resultado de Cos(X) con menor porcentaje de error\n",
            "Quieres ingresar el angulo en radianes o grados: grados\n",
            "Ingrese un angulo en grados\n",
            "Ingrese el angulo: 90\n",
            "El angulo se pasara a radianes\n",
            "1.5707963267948966 radianes\n",
            "Cos(1.57)= 1\n",
            "Valor estimado:  1.0\n",
            "El error aproximado relativo en porcentaje es:  100.0 %\n",
            "El numero de iteraciones es de:  1\n",
            "Valor estimado:  -0.5707963267948966\n",
            "El error aproximado relativo en porcentaje es:  275.19383939 %\n",
            "El numero de iteraciones es de:  2\n",
            "Valor estimado:  0.6629042233412732\n",
            "El error aproximado relativo en porcentaje es:  186.10539905 %\n",
            "El numero de iteraciones es de:  3\n",
            "Valor estimado:  0.01694012583502702\n",
            "El error aproximado relativo en porcentaje es:  3813.21900319 %\n",
            "El numero de iteraciones es de:  4\n",
            "Valor estimado:  0.270609633736075\n",
            "El error aproximado relativo en porcentaje es:  93.74001376 %\n",
            "El numero de iteraciones es de:  5\n",
            "Valor estimado:  0.19091700748990797\n",
            "El error aproximado relativo en porcentaje es:  41.74202565 %\n",
            "El numero de iteraciones es de:  6\n",
            "Valor estimado:  0.21178048825326093\n",
            "El error aproximado relativo en porcentaje es:  9.85146504 %\n",
            "El numero de iteraciones es de:  7\n",
            "Valor estimado:  0.20709873411794225\n",
            "El error aproximado relativo en porcentaje es:  2.2606387 %\n",
            "El numero de iteraciones es de:  8\n",
            "Valor estimado:  0.20801799439278168\n",
            "El error aproximado relativo en porcentaje es:  0.44191382 %\n",
            "El numero de iteraciones es de:  9\n",
            "Valor estimado:  0.20785755320799432\n",
            "El error aproximado relativo en porcentaje es:  0.07718805 %\n",
            "El numero de iteraciones es de:  10\n",
            "Valor estimado:  0.20788275525036737\n",
            "El error aproximado relativo en porcentaje es:  0.0121232 %\n",
            "El numero de iteraciones es de:  11\n",
            "Valor estimado:  0.20787915640713214\n",
            "El error aproximado relativo en porcentaje es:  0.00173122 %\n",
            "El numero de iteraciones es de:  12\n",
            "Valor estimado:  0.20787962749461003\n",
            "El error aproximado relativo en porcentaje es:  0.00022662 %\n",
            "El numero de iteraciones es de:  13\n",
            "Valor estimado:  0.2078795705728808\n",
            "El error aproximado relativo en porcentaje es:  2.738e-05 %\n",
            "El numero de iteraciones es de:  14\n",
            "Valor estimado:  0.2078795769594839\n",
            "El error aproximado relativo en porcentaje es:  3.07e-06 %\n",
            "El numero de iteraciones es de:  15\n",
            "Valor estimado:  0.20787957629068038\n",
            "El error aproximado relativo en porcentaje es:  3.2e-07 %\n",
            "El numero de iteraciones es de:  16\n"
          ]
        }
      ],
      "source": [
        "import math\n",
        "#Adrián Parra\n",
        "\n",
        "angle=0\n",
        "suma=0\n",
        "ea=100\n",
        "es=((0.5*10**-8)*100)\n",
        "n=0\n",
        "print(\"Este programa solicita un angulo y entrega el resultado de Cos(X) con menor porcentaje de error\")\n",
        "clase=str(input(\"Quieres ingresar el angulo en radianes o grados: \"))\n",
        "clase=clase.lower()\n",
        "\n",
        "if clase == \"radianes\":\n",
        "  print(\"Ingrese un angulo en radianes de la forma Xπ/n\")\n",
        "  x=int(input(\"Ingrese el X de los radianes: \"))\n",
        "  n=int(input(\"Ingrese el n de los radianes: \"))\n",
        "  angle=(x*math.pi)/n\n",
        "  print(f\"{angle} radianes\")\n",
        "elif clase == \"grados\":\n",
        "  print(\"Ingrese un angulo en grados\")\n",
        "  angle=float(input(\"Ingrese el angulo: \"))\n",
        "  angle=(angle*math.pi)/180\n",
        "  print(\"El angulo se pasara a radianes\")\n",
        "  print(f\"{angle} radianes\")\n",
        "else:\n",
        "  print(\"Ingrese una opcion valida\")\n",
        "\n",
        "print(f\"Cos({(round(angle,2))})= 1\")\n",
        "while ea>es:\n",
        "  coseno=((-1)**n)*((angle**n)/math.factorial(n))\n",
        "  suma+=coseno\n",
        "  print(\"Valor estimado: \",suma)\n",
        "  if suma!=0:\n",
        "    ea=abs((coseno/suma)*100)\n",
        "    ea=round(ea,8)\n",
        "    print(\"El error aproximado relativo en porcentaje es: \",ea, \"%\")\n",
        "  n+=1\n",
        "  print(\"El numero de iteraciones es de: \",n)\n",
        "\n"
      ]
    }
  ]
}