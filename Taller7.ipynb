{
  "nbformat": 4,
  "nbformat_minor": 0,
  "metadata": {
    "colab": {
      "provenance": []
    },
    "kernelspec": {
      "name": "python3",
      "display_name": "Python 3"
    },
    "language_info": {
      "name": "python"
    }
  },
  "cells": [
    {
      "cell_type": "code",
      "execution_count": 37,
      "metadata": {
        "colab": {
          "base_uri": "https://localhost:8080/"
        },
        "id": "N9gXkIXDZt8D",
        "outputId": "40d10ed2-a19c-4d85-a2b6-df3b14a4faa8"
      },
      "outputs": [
        {
          "output_type": "stream",
          "name": "stdout",
          "text": [
            "Resultado de Mathpy\n",
            "e**-0.85= 0.42741493\n",
            "...............\n",
            "Resultado de ecuacion 1\n",
            "Valor estimado:  0.42741493\n",
            "El error aproximado relativo en porcentaje es:  4.542720632816623e-09 %\n",
            "Iteración número:  13\n",
            "...............\n",
            "Resultado de ecuacion 2\n",
            "Valor estimado:  0.42741493\n",
            "El error aproximado relativo en porcentaje es:  8.29880210206753e-10 %\n",
            "Iteración número:  13\n"
          ]
        }
      ],
      "source": [
        "import math\n",
        "#Adrián Parra\n",
        "print(\"Resultado de Mathpy\")\n",
        "print(\"e**-0.85=\",round(math.exp(-0.85),8))\n",
        "\n",
        "#Ecuación 1\n",
        "x=0.85\n",
        "suma=1-x\n",
        "ea=1\n",
        "es=(0.5*(10**-8))\n",
        "n=1\n",
        "while ea>es:\n",
        "  euler=((-1)**(n+1))*((x**(n+1))/math.factorial(n+1))\n",
        "  suma+=euler\n",
        "  suma=round(suma,8)\n",
        "  ea=abs((euler/suma)*100)\n",
        "  n+=1\n",
        "print(\"...............\")\n",
        "print(\"Resultado de ecuacion 1\")\n",
        "print(\"Valor estimado: \",suma)\n",
        "print(\"El error aproximado relativo en porcentaje es: \",ea, \"%\")\n",
        "print(\"Iteración número: \",n)\n",
        "\n",
        "\n",
        "#Ecuación 2\n",
        "x=0.85\n",
        "suma=1+x\n",
        "ea=1\n",
        "es=(0.5*(10**-8))\n",
        "n=1\n",
        "while ea>es:\n",
        "  euler=((x**(n+1))/math.factorial(n+1))\n",
        "  suma+=euler\n",
        "  ea=abs((euler/suma)*100)\n",
        "  n+=1\n",
        "suma=1/suma\n",
        "suma=round(suma,8)\n",
        "print(\"...............\")\n",
        "print(\"Resultado de ecuacion 2\")\n",
        "print(\"Valor estimado: \",suma)\n",
        "print(\"El error aproximado relativo en porcentaje es: \",ea, \"%\")\n",
        "print(\"Iteración número: \",n)"
      ]
    }
  ]
}